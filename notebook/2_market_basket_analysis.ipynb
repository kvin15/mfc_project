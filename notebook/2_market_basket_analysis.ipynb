{
 "cells": [
  {
   "cell_type": "code",
   "execution_count": null,
   "metadata": {},
   "outputs": [],
   "source": [
    "import pandas as pd\n",
    "import numpy as np\n",
    "import gc\n",
    "from mlxtend.frequent_patterns import apriori\n",
    "from mlxtend.frequent_patterns import association_rules"
   ]
  },
  {
   "cell_type": "code",
   "execution_count": null,
   "metadata": {},
   "outputs": [],
   "source": [
    "df = pd.read_csv('../data/Final_invoice.csv', low_memory=False)\n",
    "jtd_df = pd.read_csv('../data/JTD.csv', low_memory=False)"
   ]
  },
  {
   "cell_type": "code",
   "execution_count": null,
   "metadata": {},
   "outputs": [],
   "source": [
    "# displaying the number of job_card records from invoice missing in JTD \n",
    "df[df['Job Card No'].isin(jtd_df['DBM Order']) == False].shape[0] "
   ]
  },
  {
   "cell_type": "code",
   "execution_count": null,
   "metadata": {},
   "outputs": [],
   "source": [
    "# ignoring the job card records from invoice not present in JTD file\n",
    "# hence inner join\n",
    "invoiced_jtd_df = pd.merge(df, jtd_df, left_on='Job Card No',\\\n",
    "                           right_on='DBM Order', how='inner')"
   ]
  },
  {
   "cell_type": "code",
   "execution_count": null,
   "metadata": {},
   "outputs": [],
   "source": [
    "invoiced_jtd_df1 = invoiced_jtd_df[['Invoice No','Job Card No','Area / Locality','District','CITY','Customer No.',\\\n",
    "                   'Make', 'Model', 'Order Type', 'Cust Type', 'Cash /Cashless Type', 'Invoice Date',\\\n",
    "                   'JobCard Date','KMs Reading','Total Amt Wtd Tax.', 'DBM Order', 'Material',\\\n",
    "                   'Description', 'Item Category', 'Order Quantity', 'Target quantity UoM', 'Net value']]"
   ]
  },
  {
   "cell_type": "code",
   "execution_count": null,
   "metadata": {},
   "outputs": [],
   "source": [
    "invoiced_jtd_df2 = invoiced_jtd_df1.copy()"
   ]
  },
  {
   "cell_type": "code",
   "execution_count": null,
   "metadata": {},
   "outputs": [],
   "source": [
    "# Market Basket analysis using apriori algorithm implemented in mlxtend\n",
    "# Setting Support Threshold as 70%, Confidence Threshold of 80%\n",
    "# lift is set to 2. lift and confidence threshold settings are used to filter the final rule sets\n",
    "# These values are typically set by discussing with business users\n",
    "def createMarketBasket(inputData, supThrshld=0.07, confThrshld=0.8, liftThrshld=2):\n",
    "    inputData = inputData.to_sparse(fill_value=0)\n",
    "    frequentItemsets = apriori(inputData, supThrshld, use_colnames=True)\n",
    "    rules = association_rules(frequentItemsets, metric=\"lift\", min_threshold=confThrshld)\n",
    "    rules_filtered = rules[ (rules['lift'] >= liftThrshld) & (rules['confidence'] >= confThrshld) ]\n",
    "    return rules_filtered\n",
    "\n",
    "# append all the rules as per district and city in one dataframe\n",
    "def appendRules(existingData, rules, district, city):\n",
    "    df_1 = pd.DataFrame()\n",
    "    new_df = pd.concat([df_1,rules],ignore_index=True)\n",
    "    new_df['district'] = 'dist-1'\n",
    "    new_df['city'] = 'city-1'\n",
    "    if existingData is None:\n",
    "        return new_df\n",
    "    else:\n",
    "        existingData = existingData.append(new_df, ignore_index=True)\n",
    "        return existingData"
   ]
  },
  {
   "cell_type": "code",
   "execution_count": null,
   "metadata": {},
   "outputs": [],
   "source": [
    "# Filtering based on District and City\n",
    "invoiced_jtd_df2 = invoiced_jtd_df2[['Invoice No', 'District', 'CITY', 'Description','Order Quantity']]\n",
    "dtype_con = {'Invoice No':'int8',\n",
    "             'District':'str',\n",
    "             'CITY':'str',\n",
    "             'Description':'str',\n",
    "             'Order Quantity':'float32'}\n",
    "invoiced_jtd_df2 = invoiced_jtd_df2.astype(dtype_con)\n",
    "dist_city_list = invoiced_jtd_df1.groupby(by=['District','CITY']).groups.keys()\n",
    "k = 1\n",
    "# collects all the rules in single dataframe\n",
    "dfRules = None\n",
    "for district, city in dist_city_list:\n",
    "    inv_jtd_gdf = invoiced_jtd_df1[(invoiced_jtd_df1['District'] == district) & \\\n",
    "                                    (invoiced_jtd_df1['CITY'] == city)] \n",
    "    inv_jtd_gdf = inv_jtd_gdf.groupby(by=['Invoice No','Description'])\n",
    "#     display(inv_jtd_gdf['Order Quantity'].sum().reset_index())\n",
    "    inputData = inv_jtd_gdf['Order Quantity'].sum().unstack().\\\n",
    "    reset_index().fillna(0).set_index('Invoice No')\n",
    "    display(inputData)\n",
    "    rules = createMarketBasket(inputData)\n",
    "    print('\\nAssociation rules for District: {} and City: {}'.format(district,city))\n",
    "    display(rules)\n",
    "    dfRules = appendRules(dfRules, rules, district, city)\n",
    "    k = k + 1\n",
    "    # Temporary variable to run the loop only for certain threshold\n",
    "    if k > 4:\n",
    "        break\n",
    "dfRules.reset_index()"
   ]
  },
  {
   "cell_type": "code",
   "execution_count": null,
   "metadata": {},
   "outputs": [],
   "source": [
    "# Memory cleanup \n",
    "del df\n",
    "del jtd_df"
   ]
  },
  {
   "cell_type": "code",
   "execution_count": null,
   "metadata": {},
   "outputs": [],
   "source": [
    "# garbage collection\n",
    "gc.collect()"
   ]
  },
  {
   "cell_type": "code",
   "execution_count": null,
   "metadata": {},
   "outputs": [],
   "source": [
    "display(dfRules)"
   ]
  }
 ],
 "metadata": {
  "kernelspec": {
   "display_name": "Python [conda env:python-36]",
   "language": "python",
   "name": "conda-env-python-36-py"
  },
  "language_info": {
   "codemirror_mode": {
    "name": "ipython",
    "version": 3
   },
   "file_extension": ".py",
   "mimetype": "text/x-python",
   "name": "python",
   "nbconvert_exporter": "python",
   "pygments_lexer": "ipython3",
   "version": "3.5.5"
  },
  "toc": {
   "base_numbering": 1,
   "nav_menu": {},
   "number_sections": true,
   "sideBar": true,
   "skip_h1_title": false,
   "title_cell": "Table of Contents",
   "title_sidebar": "Contents",
   "toc_cell": false,
   "toc_position": {},
   "toc_section_display": true,
   "toc_window_display": false
  },
  "varInspector": {
   "cols": {
    "lenName": 16,
    "lenType": 16,
    "lenVar": 40
   },
   "kernels_config": {
    "python": {
     "delete_cmd_postfix": "",
     "delete_cmd_prefix": "del ",
     "library": "var_list.py",
     "varRefreshCmd": "print(var_dic_list())"
    },
    "r": {
     "delete_cmd_postfix": ") ",
     "delete_cmd_prefix": "rm(",
     "library": "var_list.r",
     "varRefreshCmd": "cat(var_dic_list()) "
    }
   },
   "types_to_exclude": [
    "module",
    "function",
    "builtin_function_or_method",
    "instance",
    "_Feature"
   ],
   "window_display": false
  }
 },
 "nbformat": 4,
 "nbformat_minor": 2
}
