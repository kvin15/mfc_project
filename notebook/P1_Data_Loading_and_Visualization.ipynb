{
 "cells": [
  {
   "cell_type": "markdown",
   "metadata": {},
   "source": [
    " # Analyze MFC used cars"
   ]
  },
  {
   "cell_type": "markdown",
   "metadata": {},
   "source": [
    "## Problem Statement\n",
    "\n",
    "\n",
    "## Objective\n",
    "\n",
    "\n",
    "## Business Benefits\n",
    "\n",
    "\n",
    "\n",
    "## Dataset Descriptions\n",
    "\n"
   ]
  },
  {
   "cell_type": "code",
   "execution_count": null,
   "metadata": {},
   "outputs": [],
   "source": []
  },
  {
   "cell_type": "markdown",
   "metadata": {},
   "source": [
    "# Data Loading and Analysis"
   ]
  },
  {
   "cell_type": "markdown",
   "metadata": {},
   "source": [
    "## Loading the libraries and initialization of basic variables"
   ]
  },
  {
   "cell_type": "code",
   "execution_count": null,
   "metadata": {
    "init_cell": true
   },
   "outputs": [],
   "source": [
    "import pandas as pd\n",
    "import numpy as np\n",
    "import matplotlib.pyplot as plt\n",
    "import seaborn as sns\n",
    "from datetime import datetime "
   ]
  },
  {
   "cell_type": "code",
   "execution_count": null,
   "metadata": {
    "init_cell": true
   },
   "outputs": [],
   "source": [
    "# data file paths\n",
    "JTD_DATA_FILE = \"../data/JTD.csv\"\n",
    "CUST_DATA_FILE = \"../data/Customer_Data.xlsx\"\n",
    "PLANT_MASTER_FILE = \"../data/Plant Master.xlsx\"\n",
    "FINAL_INVOICE_FILE = \"../data/Final_Invoice.csv\"\n",
    "\n",
    "# log level\n",
    "LOG_LEVEL = 'INFO'\n",
    "\n",
    "# Year for Age calculation\n",
    "BASELINE_YEAR = 2018"
   ]
  },
  {
   "cell_type": "code",
   "execution_count": null,
   "metadata": {},
   "outputs": [],
   "source": [
    "# Date today\n",
    "#DATE_FOR_CALC = datetime(2018,8,22,0,0,0)\n",
    "#DATE_FOR_CALC"
   ]
  },
  {
   "cell_type": "markdown",
   "metadata": {},
   "source": [
    "## Data Loading"
   ]
  },
  {
   "cell_type": "code",
   "execution_count": null,
   "metadata": {
    "init_cell": true
   },
   "outputs": [
    {
     "name": "stderr",
     "output_type": "stream",
     "text": [
      "D:\\installs\\Anaconda2501\\envs\\python-36\\lib\\site-packages\\IPython\\core\\interactiveshell.py:2785: DtypeWarning: Columns (9,10,14,15,21,41,51) have mixed types. Specify dtype option on import or set low_memory=False.\n",
      "  interactivity=interactivity, compiler=compiler, result=result)\n"
     ]
    }
   ],
   "source": [
    "# load the data files for JTD, Customer and Plant data\n",
    "jtd_df_orig = pd.read_csv(JTD_DATA_FILE) \n",
    "cust_df_orig = pd.read_excel(CUST_DATA_FILE)\n",
    "plant_df_orig = pd.read_excel(PLANT_MASTER_FILE)\n",
    "invoice_df_orig = pd.read_csv(FINAL_INVOICE_FILE)"
   ]
  },
  {
   "cell_type": "markdown",
   "metadata": {},
   "source": [
    "### Rename the columns to standardize them"
   ]
  },
  {
   "cell_type": "code",
   "execution_count": null,
   "metadata": {},
   "outputs": [],
   "source": [
    "# renaming columns to standardize them\n",
    "# convert them to lower case and remove space, use _ for separating entity names\n",
    "# rename JTD columns\n",
    "jtd_df = jtd_df_orig.rename(columns={\"DBM Order\":\"dbm_order\",\\\n",
    "                                \"Order Item\":\"order_item\",\\\n",
    "                                \"Material\":\"material\",\\\n",
    "                                \"Labor Value Number\":\"labor_value_number\",\\\n",
    "                                \"Description\":\"description\",\\\n",
    "                                \"Item Category\":\"item_category\",\\\n",
    "                                \"Order Quantity\":\"order_quantity\",\\\n",
    "                                \"Target quantity UoM\":\"target_quantity_uom\",\\\n",
    "                                \"Net value\":\"net_value\"})\n",
    "\n",
    "# rename Customer columns\n",
    "cust_df = cust_df_orig.rename(columns={\"Business Partner\":\"business_partner\",\\\n",
    "                                       \"Customer No.\":\"customer_no\",\\\n",
    "                                       \"Partner Type\":\"partner_type\",\\\n",
    "                                       \"Data Origin\":\"data_origin\",\\\n",
    "                                       \"Title\":\"title\",\\\n",
    "                                       \"Marital Status\":\"marital_status\",\\\n",
    "                                       \"Occupation\":\"occupation\",\\\n",
    "                                       \"Date of Birth\":\"date_birth\",\\\n",
    "                                       \"Death date\":\"date_demise\"})\n",
    "\n",
    "# rename Plant Master columns\n",
    "plant_df = plant_df_orig.rename(columns={\"Plant\":\"plant\",\\\n",
    "                                         \"Name 1\":\"name_1\",\\\n",
    "                                         \"Valuation Area\":\"valuation_area\",\\\n",
    "                                         \"Customer no. - plant\":\"customer_no_plant\",\\\n",
    "                                         \"Vendor number plant\":\"vendor_no_plant\",\\\n",
    "                                         \"Factory calendar\":\"factory_calendar\",\\\n",
    "                                         \"Name 2\":\"name_2\",\\\n",
    "                                         \"House number and street\":\"house_no_street\",\\\n",
    "                                         \"PO Box\":\"po_box\",\\\n",
    "                                         \"Postal Code\":\"postal_code\",\\\n",
    "                                         \"City\":\"city\",\\\n",
    "                                         \"Sales organization\":\"sales_org\",\\\n",
    "                                         \"State\":\"state\"})\n",
    "\n"
   ]
  },
  {
   "cell_type": "code",
   "execution_count": null,
   "metadata": {},
   "outputs": [],
   "source": [
    "# Rename Invoice Dataset columns\n",
    "invoice_df = invoice_df_orig.rename(columns={\"Amt Rcvd From Custom\":\"amt_recd_frm_custom\",\\\n",
    "                                             \"Amt Rcvd From Ins Co\":\"amt_recd_frm_insur_co\",\\\n",
    "                                             \"Area / Locality\":\"area_locality\",\\\n",
    "                                             \"CGST(14%)\":\"cgst_14\",\\\n",
    "                                             \"CGST(2.5%)\":\"cgst_2d5\",\\\n",
    "                                             \"CGST(6%)\":\"cgst_6\",\\\n",
    "                                             \"CGST(9%)\":\"cgst_9\",\\\n",
    "                                             \"CITY\":\"city\",\\\n",
    "                                             \"Cash /Cashless Type\":\"cash_cashless_type\",\\\n",
    "                                             \"Claim No.\":\"claim_no\",\\\n",
    "                                             \"Cust Type\":\"cust_type\",\\\n",
    "                                             \"Customer No.\":\"customer_no\",\\\n",
    "                                             \"District\":\"district\",\\\n",
    "                                             \"Expiry Date\":\"expiry_date\",\\\n",
    "                                             \"Gate Pass Date\":\"gate_pass_date\",\\\n",
    "                                             \"Gate Pass Time\":\"gate_pass_time\",\\\n",
    "                                             \"IGST(12%)\":\"igst_12\",\\\n",
    "                                             \"IGST(18%)\":\"igst_18\",\\\n",
    "                                             \"IGST(28%)\":\"igst_28\",\\\n",
    "                                             \"IGST(5%)\":\"igst_5\",\\\n",
    "                                             \"Insurance Company\":\"insurance_company\",\\\n",
    "                                             \"Invoice Date\":\"invoice_date\",\\\n",
    "                                             \"Invoice No\":\"invoice_no\",\\\n",
    "                                             \"Invoice Time\":\"invoice_time\",\\\n",
    "                                             \"Job Card No\":\"jobcard_no\",\\\n",
    "                                             \"JobCard Date\":\"jobcard_date\",\\\n",
    "                                             \"JobCard Time\":\"jobcard_time\",\\\n",
    "                                             \"KMs Reading\":\"dist_kms_reading\",\\\n",
    "                                             \"Labour Total\":\"labour_total\",\\\n",
    "                                             \"Make\":\"make\",\\\n",
    "                                             \"Misc Total\":\"misc_total\",\\\n",
    "                                             \"Model\":\"model\",\\\n",
    "                                             \"ODN No.\":\"odn_no\",\\\n",
    "                                             \"OSL Total\":\"osl_total\",\\\n",
    "                                             \"Order Type\":\"order_type\",\\\n",
    "                                             \"Outstanding Amt\":\"outstanding_amt\",\\\n",
    "                                             \"Parts Total\":\"parts_total\",\\\n",
    "                                             \"Pin code\":\"pin_code\",\\\n",
    "                                             \"Plant\":\"plant\",\\\n",
    "                                             \"Plant Name1\":\"plant_name1\",\\\n",
    "                                             \"Policy no.\":\"policy_no\",\\\n",
    "                                             \"Print Status\":\"print_status\",\\\n",
    "                                             \"Recovrbl Exp\":\"recovrbl_exp\",\\\n",
    "                                             \"Regn No\":\"regn_no\",\\\n",
    "                                             \"SGST/UGST(14%)\":\"sgst_ugst_14\",\\\n",
    "                                             \"SGST/UGST(2.5%)\":\"sgst_ugst_2d5\",\\\n",
    "                                             \"SGST/UGST(6%)\":\"sgst_ugst_6\",\\\n",
    "                                             \"SGST/UGST(9%)\":\"sgst_ugst_9\",\\\n",
    "                                             \"Service Advisor Name\":\"service_advisor_name\",\\\n",
    "                                             \"TDS amount\":\"tds_amount\",\\\n",
    "                                             \"Technician Name\":\"technician_name\",\\\n",
    "                                             \"Total Amt Wtd Tax.\":\"total_amt_wtd_tax\",\\\n",
    "                                             \"Total CGST\":\"total_cgst\",\\\n",
    "                                             \"Total GST\":\"total_gst\",\\\n",
    "                                             \"Total IGST\":\"total_igst\",\\\n",
    "                                             \"Total SGST/UGST\":\"total_sgst\",\\\n",
    "                                             \"Total Value\":\"total_value\",\\\n",
    "                                             \"User ID\":\"user_id\"})\n"
   ]
  },
  {
   "cell_type": "markdown",
   "metadata": {},
   "source": [
    "### Basic Analysis based on number of records in each dataset"
   ]
  },
  {
   "cell_type": "code",
   "execution_count": null,
   "metadata": {},
   "outputs": [],
   "source": [
    "# check the number of records from all the three datasets\n",
    "print('Number of records:')\n",
    "print('JTD Records (Service records from JTD): {:,}'.format(jtd_df.shape[0]))\n",
    "print('Customer Records (Customer records from Customer): {:,}'.format(cust_df.shape[0]))\n",
    "print('Plant Records (Plant records from Plant file): {:,}'.format(plant_df.shape[0]))\n",
    "print('Final Invoice Records (Invoice records from final_invoice file): {:,}'.format(invoice_df.shape[0]))"
   ]
  },
  {
   "cell_type": "code",
   "execution_count": null,
   "metadata": {},
   "outputs": [],
   "source": [
    "def printBasicInfo(data, briefDesc):\n",
    "    if LOG_LEVEL == 'INFO':\n",
    "        print('Dataframe Brief Description for:', briefDesc)\n",
    "        print('======='*12)\n",
    "        print('\\nDataframe Field Types')\n",
    "        print(data.info())\n",
    "        print('\\nDataframe Field Null and NonNull fields')\n",
    "        print(data.isnull().sum())\n",
    "        print('\\nDataframe: ',briefDesc)\n",
    "        display(data.head(5))"
   ]
  },
  {
   "cell_type": "code",
   "execution_count": null,
   "metadata": {},
   "outputs": [],
   "source": [
    "printBasicInfo(jtd_df, briefDesc='JTD Dataset information')"
   ]
  },
  {
   "cell_type": "markdown",
   "metadata": {},
   "source": [
    "### Customer Dataset - Add columns to indicate is_alive and age of the customer"
   ]
  },
  {
   "cell_type": "code",
   "execution_count": null,
   "metadata": {},
   "outputs": [],
   "source": [
    "printBasicInfo(cust_df, briefDesc='Customer Dataset information')"
   ]
  },
  {
   "cell_type": "code",
   "execution_count": null,
   "metadata": {},
   "outputs": [],
   "source": [
    "cust_df['date_birth'] = pd.to_datetime(cust_df['date_birth'], errors = 'coerce')"
   ]
  },
  {
   "cell_type": "code",
   "execution_count": null,
   "metadata": {},
   "outputs": [],
   "source": [
    "cust_df['date_demise'].isnull().value_counts()"
   ]
  },
  {
   "cell_type": "code",
   "execution_count": null,
   "metadata": {},
   "outputs": [],
   "source": [
    "# Calculates the age of the customer in years\n",
    "def calculateAgeInYears(dtBirth, dtDemise):\n",
    "    # default age if date of birth and demise are not available\n",
    "    ageVal = 199\n",
    "    # if both date of birth and date of demise is available\n",
    "    # then use these values to calculate age\n",
    "    if (not pd.isnull(dtBirth)) & (not pd.isnull(dtDemise)):\n",
    "         ageVal = dtDemise.year - dtBirth.year\n",
    "    \n",
    "    # if both date of demise is not available, assumed that person is alive\n",
    "    # then use current baseline year to calculate age in years \n",
    "    # based on the birth date\n",
    "    elif (not pd.isnull(dtBirth)) & pd.isnull(dtDemise):\n",
    "         ageVal = BASELINE_YEAR - dtBirth.year\n",
    "    return ageVal\n",
    "\n",
    "\n",
    "# Group all the logic required for customer dataset feature\n",
    "# preprocessing in this function block\n",
    "def preprocessCustFeatures(customerData):\n",
    "    # creates a new feature called is_alive to check if person is alive\n",
    "    customerData['is_alive'] = customerData['date_demise'].isnull()\n",
    "    # creates a new feature called age based on current baseline year\n",
    "    customerData['age'] = customerData.apply(lambda x: calculateAgeInYears(\\\n",
    "                                            x.date_birth,\\\n",
    "                                            x.date_demise), axis=1)\n",
    "    return customerData"
   ]
  },
  {
   "cell_type": "code",
   "execution_count": null,
   "metadata": {},
   "outputs": [],
   "source": [
    "cust_df = preprocessCustFeatures(customerData=cust_df)\n",
    "cust_df.info()"
   ]
  },
  {
   "cell_type": "code",
   "execution_count": null,
   "metadata": {},
   "outputs": [],
   "source": [
    "printBasicInfo(plant_df, briefDesc='Plant Dataset information')"
   ]
  },
  {
   "cell_type": "code",
   "execution_count": null,
   "metadata": {},
   "outputs": [],
   "source": [
    "printBasicInfo(invoice_df, briefDesc='Invoice Dataset information')"
   ]
  },
  {
   "cell_type": "code",
   "execution_count": null,
   "metadata": {},
   "outputs": [],
   "source": [
    "# Number of customer numbers not in customer records file\n",
    "print('Number of Customers from Plant Master who are not present in Customer Master:')\n",
    "display(plant_df['customer_no_plant']\\\n",
    "        .isin(cust_df['customer_no'])\\\n",
    "        .value_counts())\n",
    "\n",
    "# List of such unique Number of customer numbers not in customer records file\n",
    "\n",
    "orphPlanCustList = pd.unique(plant_df[plant_df['customer_no_plant']\\\n",
    "                   .isin(cust_df['customer_no']) == False]\\\n",
    "                    .customer_no_plant)\n",
    "print('\\nTotal number of customer records in plant master \\\n",
    "which are not present in customer master:',len(orphPlanCustList))\n",
    "print('\\nSample orphan Customer Records in Plant: ',orphPlanCustList[1:5])"
   ]
  },
  {
   "cell_type": "markdown",
   "metadata": {},
   "source": [
    "<font color='blue'><b>Observation</b>:As we can see from above that all the customer numbers mentioned in the Plant Master does not have corresponding records in Customer Master.</font>"
   ]
  },
  {
   "cell_type": "code",
   "execution_count": null,
   "metadata": {},
   "outputs": [],
   "source": [
    "# Number of customer numbers not in customer records file\n",
    "print('Number of Customers from Invoice who are not present in Customer Master:')\n",
    "display(invoice_df['customer_no']\\\n",
    "        .isin(cust_df['customer_no'])\\\n",
    "        .value_counts())\n",
    "\n",
    "# List of such unique Number of customer numbers not in customer records file\n",
    "\n",
    "orphInvCustList = pd.unique(invoice_df[invoice_df['customer_no']\\\n",
    "                   .isin(cust_df['customer_no']) == False]\\\n",
    "                    .customer_no)\n",
    "print('\\nTotal number of customer records in Invoice master \\\n",
    "which are not present in customer master:',len(orphInvCustList))\n",
    "print('\\nSample orphan Customer Records in Invoice: ',orphInvCustList[1:5])"
   ]
  },
  {
   "cell_type": "code",
   "execution_count": null,
   "metadata": {},
   "outputs": [],
   "source": [
    "cust_df[cust_df['customer_no'] == '84419']"
   ]
  },
  {
   "cell_type": "code",
   "execution_count": null,
   "metadata": {},
   "outputs": [],
   "source": [
    "invoice_df.groupby(by=['insurance_company'])['customer_no'].count()\n",
    "# pd.unique(invoice_df['insurance_company'])"
   ]
  }
 ],
 "metadata": {
  "celltoolbar": "Initialization Cell",
  "kernelspec": {
   "display_name": "Python [conda env:python-36]",
   "language": "python",
   "name": "conda-env-python-36-py"
  },
  "language_info": {
   "codemirror_mode": {
    "name": "ipython",
    "version": 3
   },
   "file_extension": ".py",
   "mimetype": "text/x-python",
   "name": "python",
   "nbconvert_exporter": "python",
   "pygments_lexer": "ipython3",
   "version": "3.5.5"
  },
  "toc": {
   "base_numbering": 1,
   "nav_menu": {},
   "number_sections": true,
   "sideBar": true,
   "skip_h1_title": false,
   "title_cell": "Table of Contents",
   "title_sidebar": "Contents",
   "toc_cell": false,
   "toc_position": {
    "height": "calc(100% - 180px)",
    "left": "10px",
    "top": "150px",
    "width": "248px"
   },
   "toc_section_display": true,
   "toc_window_display": true
  },
  "varInspector": {
   "cols": {
    "lenName": 16,
    "lenType": 16,
    "lenVar": 40
   },
   "kernels_config": {
    "python": {
     "delete_cmd_postfix": "",
     "delete_cmd_prefix": "del ",
     "library": "var_list.py",
     "varRefreshCmd": "print(var_dic_list())"
    },
    "r": {
     "delete_cmd_postfix": ") ",
     "delete_cmd_prefix": "rm(",
     "library": "var_list.r",
     "varRefreshCmd": "cat(var_dic_list()) "
    }
   },
   "types_to_exclude": [
    "module",
    "function",
    "builtin_function_or_method",
    "instance",
    "_Feature"
   ],
   "window_display": false
  }
 },
 "nbformat": 4,
 "nbformat_minor": 2
}
