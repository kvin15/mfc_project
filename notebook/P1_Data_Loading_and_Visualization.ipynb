{
 "cells": [
  {
   "cell_type": "markdown",
   "metadata": {},
   "source": [
    " # Analyze MFC used cars"
   ]
  },
  {
   "cell_type": "markdown",
   "metadata": {},
   "source": [
    "## Problem Statement\n",
    "\n",
    "\n",
    "## Objective\n",
    "\n",
    "\n",
    "## Business Benefits"
   ]
  },
  {
   "cell_type": "markdown",
   "metadata": {
    "ExecuteTime": {
     "end_time": "2018-08-21T19:07:36.724452Z",
     "start_time": "2018-08-21T19:07:36.715453Z"
    }
   },
   "source": [
    "# Data Loading and Analysis"
   ]
  },
  {
   "cell_type": "markdown",
   "metadata": {
    "ExecuteTime": {
     "end_time": "2018-08-21T19:04:38.690075Z",
     "start_time": "2018-08-21T19:04:38.684080Z"
    }
   },
   "source": [
    "## Loading the libraries and initialization of basic variables"
   ]
  },
  {
   "cell_type": "code",
   "execution_count": 2,
   "metadata": {
    "ExecuteTime": {
     "end_time": "2018-08-21T18:12:35.535432Z",
     "start_time": "2018-08-21T18:12:35.526433Z"
    },
    "init_cell": true
   },
   "outputs": [],
   "source": [
    "import pandas as pd\n",
    "import numpy as np\n",
    "import matplotlib.pyplot as plt\n",
    "import seaborn as sns"
   ]
  },
  {
   "cell_type": "code",
   "execution_count": 36,
   "metadata": {
    "ExecuteTime": {
     "end_time": "2018-08-21T19:34:21.536866Z",
     "start_time": "2018-08-21T19:34:21.529807Z"
    },
    "init_cell": true
   },
   "outputs": [],
   "source": [
    "# data file paths\n",
    "JTD_DATA_FILE = \"../data/JTD.csv\"\n",
    "CUST_DATA_FILE = \"../data/Customer_Data.xlsx\"\n",
    "PLANT_MASTER_FILE = \"../data/Latest_Plant Master.xlsx\"\n",
    "\n",
    "# log level\n",
    "LOG_LEVEL = 'INFO'"
   ]
  },
  {
   "cell_type": "markdown",
   "metadata": {},
   "source": [
    "## Data Loading"
   ]
  },
  {
   "cell_type": "code",
   "execution_count": 9,
   "metadata": {
    "ExecuteTime": {
     "end_time": "2018-08-21T19:17:02.330117Z",
     "start_time": "2018-08-21T19:14:44.533149Z"
    },
    "init_cell": true
   },
   "outputs": [],
   "source": [
    "# load the data files for JTD, Customer and Plant data\n",
    "jtd_df = pd.read_csv(JTD_DATA_FILE) \n",
    "cust_df = pd.read_excel(CUST_DATA_FILE)\n",
    "plant_df = pd.read_excel(PLANT_MASTER_FILE)"
   ]
  },
  {
   "cell_type": "code",
   "execution_count": 37,
   "metadata": {
    "ExecuteTime": {
     "end_time": "2018-08-21T19:34:26.503734Z",
     "start_time": "2018-08-21T19:34:26.496737Z"
    }
   },
   "outputs": [],
   "source": [
    "def printBasicInfo(data, briefDesc):\n",
    "    if LOG_LEVEL == 'INFO':\n",
    "        print('Dataframe Brief Description for:', briefDesc)\n",
    "        print('======='*12)\n",
    "        print('\\nDataframe Field Types')\n",
    "        print(data.info())\n",
    "        print('\\nDataframe Field Null and NonNull fields')\n",
    "        print(data.isnull().sum())\n",
    "        print('\\nDataframe head')\n",
    "        print(data.head(5))"
   ]
  },
  {
   "cell_type": "code",
   "execution_count": 38,
   "metadata": {
    "ExecuteTime": {
     "end_time": "2018-08-21T19:34:35.344604Z",
     "start_time": "2018-08-21T19:34:29.188695Z"
    }
   },
   "outputs": [
    {
     "name": "stdout",
     "output_type": "stream",
     "text": [
      "Dataframe Brief Description for: JTD Dataset information\n",
      "====================================================================================\n",
      "\n",
      "Dataframe Field Types\n",
      "<class 'pandas.core.frame.DataFrame'>\n",
      "RangeIndex: 5619484 entries, 0 to 5619483\n",
      "Data columns (total 10 columns):\n",
      "Unnamed: 0             int64\n",
      "DBM Order              int64\n",
      "Order Item             int64\n",
      "Material               object\n",
      "Labor Value Number     object\n",
      "Description            object\n",
      "Item Category          object\n",
      "Order Quantity         float64\n",
      "Target quantity UoM    object\n",
      "Net value              float64\n",
      "dtypes: float64(2), int64(3), object(5)\n",
      "memory usage: 428.7+ MB\n",
      "None\n",
      "\n",
      "Dataframe Field Null and NonNull fields\n",
      "Unnamed: 0                   0\n",
      "DBM Order                    0\n",
      "Order Item                   0\n",
      "Material                 51629\n",
      "Labor Value Number     3774033\n",
      "Description              51629\n",
      "Item Category                0\n",
      "Order Quantity               0\n",
      "Target quantity UoM      51629\n",
      "Net value                    0\n",
      "dtype: int64\n",
      "\n",
      "Dataframe head\n",
      "   Unnamed: 0  DBM Order  Order Item           Material Labor Value Number  \\\n",
      "0           0      22385         180        OSLCC_SRV31                NaN   \n",
      "1           1      23910          10    1DM279018170117                NaN   \n",
      "2           2      23910          40      1IS150203BE01                NaN   \n",
      "3           3      23910          60    1DM279001990173                NaN   \n",
      "4           4      23910          70  1DM88552790S001SA                NaN   \n",
      "\n",
      "                               Description Item Category  Order Quantity  \\\n",
      "0  MACHINING RR.SUSPENSION CHARGE  (MAJOR)          P010             1.2   \n",
      "1           ASSY.OIL COOLER (6-PLATE) (VOR          P002             1.0   \n",
      "2           FRONT WHEEL BEARING/ LUBRICATE          P002             1.0   \n",
      "3          ASSY.CYL.HEAD W /O INJ.(NA W /O          P002             1.0   \n",
      "4           Engine Overhaul Kit -Indica Di          P002             1.0   \n",
      "\n",
      "  Target quantity UoM  Net value  \n",
      "0                 MIN    1869.87  \n",
      "1                  EA    2151.13  \n",
      "2                  EA    2552.92  \n",
      "3                  EA   20360.14  \n",
      "4                  EA   10691.63  \n"
     ]
    }
   ],
   "source": [
    "printBasicInfo(jtd_df, briefDesc='JTD Dataset information')"
   ]
  },
  {
   "cell_type": "code",
   "execution_count": 39,
   "metadata": {
    "ExecuteTime": {
     "end_time": "2018-08-21T19:34:43.529517Z",
     "start_time": "2018-08-21T19:34:42.635543Z"
    }
   },
   "outputs": [
    {
     "name": "stdout",
     "output_type": "stream",
     "text": [
      "Dataframe Brief Description for: Customer Dataset information\n",
      "====================================================================================\n",
      "\n",
      "Dataframe Field Types\n",
      "<class 'pandas.core.frame.DataFrame'>\n",
      "RangeIndex: 555338 entries, 0 to 555337\n",
      "Data columns (total 9 columns):\n",
      "Business Partner    555338 non-null object\n",
      "Customer No.        555338 non-null object\n",
      "Partner Type        555260 non-null float64\n",
      "Data Origin         555202 non-null object\n",
      "Title               509031 non-null float64\n",
      "Marital Status      16037 non-null float64\n",
      "Occupation          14558 non-null float64\n",
      "Date of Birth       13444 non-null object\n",
      "Death date          663 non-null datetime64[ns]\n",
      "dtypes: datetime64[ns](1), float64(4), object(4)\n",
      "memory usage: 38.1+ MB\n",
      "None\n",
      "\n",
      "Dataframe Field Null and NonNull fields\n",
      "Business Partner         0\n",
      "Customer No.             0\n",
      "Partner Type            78\n",
      "Data Origin            136\n",
      "Title                46307\n",
      "Marital Status      539301\n",
      "Occupation          540780\n",
      "Date of Birth       541894\n",
      "Death date          554675\n",
      "dtype: int64\n",
      "\n",
      "Dataframe head\n",
      "  Business Partner Customer No.  Partner Type Data Origin  Title  \\\n",
      "0               31            1           1.0        Z001    NaN   \n",
      "1               32            2           1.0        Z005    NaN   \n",
      "2               34            4           1.0        Z005    NaN   \n",
      "3               35            5           1.0        Z005    NaN   \n",
      "4               42            7           1.0        Z008    NaN   \n",
      "\n",
      "   Marital Status  Occupation Date of Birth Death date  \n",
      "0             NaN         NaN           NaN        NaT  \n",
      "1             NaN         NaN           NaN        NaT  \n",
      "2             2.0         NaN           NaN        NaT  \n",
      "3             NaN         NaN           NaN        NaT  \n",
      "4             NaN         NaN           NaN        NaT  \n"
     ]
    }
   ],
   "source": [
    "printBasicInfo(cust_df, briefDesc='Customer Dataset information')"
   ]
  },
  {
   "cell_type": "code",
   "execution_count": 40,
   "metadata": {
    "ExecuteTime": {
     "end_time": "2018-08-21T19:34:46.875433Z",
     "start_time": "2018-08-21T19:34:46.838438Z"
    }
   },
   "outputs": [
    {
     "name": "stdout",
     "output_type": "stream",
     "text": [
      "Dataframe Brief Description for: Plant Dataset information\n",
      "====================================================================================\n",
      "\n",
      "Dataframe Field Types\n",
      "<class 'pandas.core.frame.DataFrame'>\n",
      "RangeIndex: 438 entries, 0 to 437\n",
      "Data columns (total 13 columns):\n",
      "Plant                      438 non-null object\n",
      "Name 1                     438 non-null object\n",
      "Valuation Area             438 non-null object\n",
      "Customer no. - plant       438 non-null object\n",
      "Vendor number plant        2 non-null object\n",
      "Factory calendar           438 non-null object\n",
      "Name 2                     436 non-null object\n",
      "House number and street    436 non-null object\n",
      "PO Box                     437 non-null float64\n",
      "Postal Code                438 non-null int64\n",
      "City                       438 non-null object\n",
      "Sales organization         433 non-null object\n",
      "State                      438 non-null object\n",
      "dtypes: float64(1), int64(1), object(11)\n",
      "memory usage: 44.6+ KB\n",
      "None\n",
      "\n",
      "Dataframe Field Null and NonNull fields\n",
      "Plant                        0\n",
      "Name 1                       0\n",
      "Valuation Area               0\n",
      "Customer no. - plant         0\n",
      "Vendor number plant        436\n",
      "Factory calendar             0\n",
      "Name 2                       2\n",
      "House number and street      2\n",
      "PO Box                       1\n",
      "Postal Code                  0\n",
      "City                         0\n",
      "Sales organization           5\n",
      "State                        0\n",
      "dtype: int64\n",
      "\n",
      "Dataframe head\n",
      "  Plant                          Name 1 Valuation Area Customer no. - plant  \\\n",
      "0  BC07                      NERKUNDRAM           BC07               PLBC07   \n",
      "1  BC30              SAS NAGAR - MOHALI           BC30               PLBC30   \n",
      "2  X001       X001 - AUTO PLANET WHEELS           X001               PLX001   \n",
      "3  X002  X002 - BHANDARI INDUSTRIES PVT           X002               PLX002   \n",
      "4  X003  X003 - Om Sri Satya Sai Automo           X003               PLX003   \n",
      "\n",
      "  Vendor number plant Factory calendar     Name 2  \\\n",
      "0              PLBC07               IN        NaN   \n",
      "1              PLBC30               IN        NaN   \n",
      "2                 NaN               IN      Thane   \n",
      "3                 NaN               IN  Ghaziabad   \n",
      "4                 NaN               IN  Bengaluru   \n",
      "\n",
      "          House number and street    PO Box  Postal Code       City  \\\n",
      "0   No.117 Poonamallee High Road,  600107.0       600107    Chennai   \n",
      "1                C-118, Phase 07,  160055.0       160055     Mohali   \n",
      "2    Unit No.3, Kothari Compound,  400610.0       400610      Thane   \n",
      "3       18/1, C Site 4, Sahibabad  201010.0       201010  Ghaziabad   \n",
      "4  #75, Sy.No. 83/2, Panathur Mai  560087.0       560087  Bengaluru   \n",
      "\n",
      "  Sales organization          State  \n",
      "0               MFCS     Tamil Nadu  \n",
      "1               MFCS         Punjab  \n",
      "2               MFCA    Maharashtra  \n",
      "3               MFCA  Uttar Pradesh  \n",
      "4               MFCB      Karnataka  \n"
     ]
    }
   ],
   "source": [
    "printBasicInfo(plant_df, briefDesc='Plant Dataset information')"
   ]
  }
 ],
 "metadata": {
  "celltoolbar": "Initialization Cell",
  "kernelspec": {
   "display_name": "Python [conda env:python-36]",
   "language": "python",
   "name": "conda-env-python-36-py"
  },
  "language_info": {
   "codemirror_mode": {
    "name": "ipython",
    "version": 3
   },
   "file_extension": ".py",
   "mimetype": "text/x-python",
   "name": "python",
   "nbconvert_exporter": "python",
   "pygments_lexer": "ipython3",
   "version": "3.5.5"
  },
  "toc": {
   "base_numbering": 1,
   "nav_menu": {},
   "number_sections": true,
   "sideBar": true,
   "skip_h1_title": false,
   "title_cell": "Table of Contents",
   "title_sidebar": "Contents",
   "toc_cell": false,
   "toc_position": {},
   "toc_section_display": true,
   "toc_window_display": true
  },
  "varInspector": {
   "cols": {
    "lenName": 16,
    "lenType": 16,
    "lenVar": 40
   },
   "kernels_config": {
    "python": {
     "delete_cmd_postfix": "",
     "delete_cmd_prefix": "del ",
     "library": "var_list.py",
     "varRefreshCmd": "print(var_dic_list())"
    },
    "r": {
     "delete_cmd_postfix": ") ",
     "delete_cmd_prefix": "rm(",
     "library": "var_list.r",
     "varRefreshCmd": "cat(var_dic_list()) "
    }
   },
   "types_to_exclude": [
    "module",
    "function",
    "builtin_function_or_method",
    "instance",
    "_Feature"
   ],
   "window_display": false
  }
 },
 "nbformat": 4,
 "nbformat_minor": 2
}
